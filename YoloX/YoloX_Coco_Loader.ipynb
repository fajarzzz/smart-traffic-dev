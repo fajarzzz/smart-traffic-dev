{
  "nbformat": 4,
  "nbformat_minor": 0,
  "metadata": {
    "colab": {
      "provenance": []
    },
    "kernelspec": {
      "name": "python3",
      "display_name": "Python 3"
    },
    "language_info": {
      "name": "python"
    },
    "accelerator": "GPU",
    "gpuClass": "standard"
  },
  "cells": [
    {
      "cell_type": "markdown",
      "source": [
        " # **YOLOX Test Model**"
      ],
      "metadata": {
        "id": "3EdM0hU121Zs"
      }
    },
    {
      "cell_type": "code",
      "execution_count": 1,
      "metadata": {
        "colab": {
          "base_uri": "https://localhost:8080/"
        },
        "id": "joc3Tt2QQcAU",
        "outputId": "2e35d666-48c7-400a-aa70-0e6974834376"
      },
      "outputs": [
        {
          "output_type": "stream",
          "name": "stdout",
          "text": [
            "Cloning into 'YOLOX'...\n",
            "remote: Enumerating objects: 1723, done.\u001b[K\n",
            "remote: Counting objects: 100% (1/1), done.\u001b[K\n",
            "remote: Total 1723 (delta 0), reused 1 (delta 0), pack-reused 1722\u001b[K\n",
            "Receiving objects: 100% (1723/1723), 6.83 MiB | 41.65 MiB/s, done.\n",
            "Resolving deltas: 100% (1020/1020), done.\n"
          ]
        }
      ],
      "source": [
        "# Clone Repo YOLOX\n",
        "!git clone https://github.com/Megvii-BaseDetection/YOLOX/"
      ]
    },
    {
      "cell_type": "code",
      "source": [
        "cd YOLOX"
      ],
      "metadata": {
        "colab": {
          "base_uri": "https://localhost:8080/"
        },
        "id": "aDFLavktQy4-",
        "outputId": "31f40ae7-1cea-4f84-a6b9-28eadf6c2800"
      },
      "execution_count": 3,
      "outputs": [
        {
          "output_type": "stream",
          "name": "stdout",
          "text": [
            "/content/YOLOX\n"
          ]
        }
      ]
    },
    {
      "cell_type": "code",
      "source": [
        "# Install dependencies\n",
        "!pip3 install -U pip && pip3 install -r requirements.txt\n",
        "!pip3 install -v -e ."
      ],
      "metadata": {
        "id": "iFshR3EURRhW"
      },
      "execution_count": null,
      "outputs": []
    },
    {
      "cell_type": "code",
      "source": [
        "# Choose one.\n",
        "# download weight yolox_s\n",
        "! wget https://github.com/Megvii-BaseDetection/YOLOX/releases/download/0.1.1rc0/yolox_s.pth\n",
        "# download weight yolox_darknet\n",
        "! wget https://github.com/Megvii-BaseDetection/YOLOX/releases/download/0.1.1rc0/yolox_darknet.pth"
      ],
      "metadata": {
        "id": "61I14JebRhxl"
      },
      "execution_count": null,
      "outputs": []
    },
    {
      "cell_type": "code",
      "source": [
        "# To Train\n",
        "!python tools/train.py -f exps/example/yolox_voc/yolox_voc_s.py -d 1 -b 16 --fp16 -o -c /weights/yolox_s.pth"
      ],
      "metadata": {
        "id": "id7kH7JqIgNB"
      },
      "execution_count": null,
      "outputs": []
    },
    {
      "cell_type": "code",
      "source": [
        "# To make a demo image\n",
        "!python tools/demo.py image -n yolox-s -c weights/yolox_s.pth --path assets/lalulintas.jpg --conf 0.3 --nms 0.4 --tsize 640 --save_result"
      ],
      "metadata": {
        "colab": {
          "base_uri": "https://localhost:8080/"
        },
        "id": "DGFX62DOR200",
        "outputId": "5aeec788-a3ce-4e96-8a8d-1d6fa2cfe9b2"
      },
      "execution_count": 9,
      "outputs": [
        {
          "output_type": "stream",
          "name": "stdout",
          "text": [
            "\u001b[32m2022-09-06 01:32:12.704\u001b[0m | \u001b[1mINFO    \u001b[0m | \u001b[36m__main__\u001b[0m:\u001b[36mmain\u001b[0m:\u001b[36m259\u001b[0m - \u001b[1mArgs: Namespace(camid=0, ckpt='weights/yolox_s.pth', conf=0.3, demo='image', device='cpu', exp_file=None, experiment_name='yolox_s', fp16=False, fuse=False, legacy=False, name='yolox-s', nms=0.4, path='assets/lalulintas.jpg', save_result=True, trt=False, tsize=640)\u001b[0m\n",
            "\u001b[32m2022-09-06 01:32:12.932\u001b[0m | \u001b[1mINFO    \u001b[0m | \u001b[36m__main__\u001b[0m:\u001b[36mmain\u001b[0m:\u001b[36m269\u001b[0m - \u001b[1mModel Summary: Params: 8.97M, Gflops: 26.93\u001b[0m\n",
            "\u001b[32m2022-09-06 01:32:12.934\u001b[0m | \u001b[1mINFO    \u001b[0m | \u001b[36m__main__\u001b[0m:\u001b[36mmain\u001b[0m:\u001b[36m282\u001b[0m - \u001b[1mloading checkpoint\u001b[0m\n",
            "\u001b[32m2022-09-06 01:32:13.037\u001b[0m | \u001b[1mINFO    \u001b[0m | \u001b[36m__main__\u001b[0m:\u001b[36mmain\u001b[0m:\u001b[36m286\u001b[0m - \u001b[1mloaded checkpoint done.\u001b[0m\n",
            "Premature end of JPEG file\n",
            "\u001b[32m2022-09-06 01:32:13.900\u001b[0m | \u001b[1mINFO    \u001b[0m | \u001b[36m__main__\u001b[0m:\u001b[36minference\u001b[0m:\u001b[36m165\u001b[0m - \u001b[1mInfer time: 0.6113s\u001b[0m\n",
            "\u001b[32m2022-09-06 01:32:13.904\u001b[0m | \u001b[1mINFO    \u001b[0m | \u001b[36m__main__\u001b[0m:\u001b[36mimage_demo\u001b[0m:\u001b[36m202\u001b[0m - \u001b[1mSaving detection result in ./YOLOX_outputs/yolox_s/vis_res/2022_09_06_01_32_13/lalulintas.jpg\u001b[0m\n"
          ]
        }
      ]
    },
    {
      "cell_type": "code",
      "source": [
        "# To make a demo webcam\n",
        "!python tools/demo.py webcam -n yolox-s -c weights/yolox_s.pth --camid 0 --conf 0.3 --nms 0.4 --tsize 640"
      ],
      "metadata": {
        "id": "HK5C355dTYoN",
        "colab": {
          "base_uri": "https://localhost:8080/"
        },
        "outputId": "b792782f-0dc5-4194-d8cf-0ddc7f38e516"
      },
      "execution_count": null,
      "outputs": [
        {
          "output_type": "stream",
          "name": "stdout",
          "text": [
            "\u001b[32m2022-09-05 04:14:29.307\u001b[0m | \u001b[1mINFO    \u001b[0m | \u001b[36m__main__\u001b[0m:\u001b[36mmain\u001b[0m:\u001b[36m259\u001b[0m - \u001b[1mArgs: Namespace(camid=0, ckpt='weights/yolox_s.pth', conf=0.3, demo='webcam', device='cpu', exp_file=None, experiment_name='yolox_s', fp16=False, fuse=False, legacy=False, name='yolox-s', nms=0.4, path='./assets/dog.jpg', save_result=False, trt=False, tsize=640)\u001b[0m\n",
            "\u001b[32m2022-09-05 04:14:29.558\u001b[0m | \u001b[1mINFO    \u001b[0m | \u001b[36m__main__\u001b[0m:\u001b[36mmain\u001b[0m:\u001b[36m269\u001b[0m - \u001b[1mModel Summary: Params: 8.97M, Gflops: 26.93\u001b[0m\n",
            "\u001b[32m2022-09-05 04:14:29.560\u001b[0m | \u001b[1mINFO    \u001b[0m | \u001b[36m__main__\u001b[0m:\u001b[36mmain\u001b[0m:\u001b[36m282\u001b[0m - \u001b[1mloading checkpoint\u001b[0m\n",
            "\u001b[32m2022-09-05 04:14:29.670\u001b[0m | \u001b[1mINFO    \u001b[0m | \u001b[36m__main__\u001b[0m:\u001b[36mmain\u001b[0m:\u001b[36m286\u001b[0m - \u001b[1mloaded checkpoint done.\u001b[0m\n",
            "[ WARN:0@1.216] global /io/opencv/modules/videoio/src/cap_v4l.cpp (902) open VIDEOIO(V4L2:/dev/video0): can't open camera by index\n"
          ]
        }
      ]
    },
    {
      "cell_type": "code",
      "source": [
        "# to evaluate model on certain dataset\n",
        "!python tools/eval.py -n  yolox-s -c weights/yolox_s.pth -b 64 -d 1 --conf 0.001 -f exps/example/yolox_voc/yolox_voc_s.py"
      ],
      "metadata": {
        "id": "bKNEUuE12DFB"
      },
      "execution_count": null,
      "outputs": []
    },
    {
      "cell_type": "code",
      "source": [
        "# Cek nvidia local\n",
        "!nvidia-smi -L"
      ],
      "metadata": {
        "colab": {
          "base_uri": "https://localhost:8080/"
        },
        "id": "SGQFHk6sLKx9",
        "outputId": "bbdef04f-a2f4-4f3c-c9f5-057c56d99344"
      },
      "execution_count": 7,
      "outputs": [
        {
          "output_type": "stream",
          "name": "stdout",
          "text": [
            "GPU 0: Tesla T4 (UUID: GPU-4535ba99-97c3-48f9-417f-d0c798e1e0ae)\n"
          ]
        }
      ]
    },
    {
      "cell_type": "markdown",
      "source": [
        "# **COCO LOADER**"
      ],
      "metadata": {
        "id": "J8ihSd79jYCO"
      }
    },
    {
      "cell_type": "code",
      "source": [
        "# fiftyone loader datasets coco\n",
        "!pip install fiftyone"
      ],
      "metadata": {
        "id": "AQrnY-FvdT7e"
      },
      "execution_count": null,
      "outputs": []
    },
    {
      "cell_type": "code",
      "source": [
        "import fiftyone as fo\n",
        "import fiftyone.zoo as foz"
      ],
      "metadata": {
        "id": "mb7_9_-idEon"
      },
      "execution_count": 1,
      "outputs": []
    },
    {
      "cell_type": "code",
      "source": [
        "# Download and load the validation split of COCO-2017 for test evaluate\n",
        "dataset = foz.load_zoo_dataset(\"coco-2017\", split=\"validation\")"
      ],
      "metadata": {
        "colab": {
          "base_uri": "https://localhost:8080/"
        },
        "id": "qw1JnaIDdOfk",
        "outputId": "169fb3a4-8bb3-4e79-804a-b0dc450c2610"
      },
      "execution_count": 31,
      "outputs": [
        {
          "output_type": "stream",
          "name": "stdout",
          "text": [
            "Downloading split 'validation' to '/root/fiftyone/coco-2017/validation' if necessary\n"
          ]
        },
        {
          "output_type": "stream",
          "name": "stderr",
          "text": [
            "INFO:fiftyone.zoo.datasets:Downloading split 'validation' to '/root/fiftyone/coco-2017/validation' if necessary\n"
          ]
        },
        {
          "output_type": "stream",
          "name": "stdout",
          "text": [
            "Found annotations at '/root/fiftyone/coco-2017/raw/instances_val2017.json'\n"
          ]
        },
        {
          "output_type": "stream",
          "name": "stderr",
          "text": [
            "INFO:fiftyone.utils.coco:Found annotations at '/root/fiftyone/coco-2017/raw/instances_val2017.json'\n"
          ]
        },
        {
          "output_type": "stream",
          "name": "stdout",
          "text": [
            "Images already downloaded\n"
          ]
        },
        {
          "output_type": "stream",
          "name": "stderr",
          "text": [
            "INFO:fiftyone.utils.coco:Images already downloaded\n"
          ]
        },
        {
          "output_type": "stream",
          "name": "stdout",
          "text": [
            "Existing download of split 'validation' is sufficient\n"
          ]
        },
        {
          "output_type": "stream",
          "name": "stderr",
          "text": [
            "INFO:fiftyone.zoo.datasets:Existing download of split 'validation' is sufficient\n"
          ]
        },
        {
          "output_type": "stream",
          "name": "stdout",
          "text": [
            "Loading existing dataset 'coco-2017-validation'. To reload from disk, either delete the existing dataset or provide a custom `dataset_name` to use\n"
          ]
        },
        {
          "output_type": "stream",
          "name": "stderr",
          "text": [
            "INFO:fiftyone.zoo.datasets:Loading existing dataset 'coco-2017-validation'. To reload from disk, either delete the existing dataset or provide a custom `dataset_name` to use\n"
          ]
        }
      ]
    },
    {
      "cell_type": "code",
      "source": [
        "# open view data with app\n",
        "session = fo.launch_app(dataset)"
      ],
      "metadata": {
        "id": "K4xI4aVAdiZb"
      },
      "execution_count": null,
      "outputs": []
    },
    {
      "cell_type": "code",
      "source": [
        "dataset2 = foz.load_zoo_dataset(\"coco-2017\", split=\"validation\", max_samples=50, shuffles=True)"
      ],
      "metadata": {
        "id": "WwzcX25SeCZ3"
      },
      "execution_count": null,
      "outputs": []
    },
    {
      "cell_type": "code",
      "source": [
        "session = fo.launch_app(dataset2)"
      ],
      "metadata": {
        "id": "lsYTUCcgeRbO"
      },
      "execution_count": null,
      "outputs": []
    },
    {
      "cell_type": "code",
      "source": [
        "dataset3 = foz.load_zoo_dataset(\"coco-2017\", split=\"validation\", max_samples=200, label_types=[\"detections\"], classes=[\"motorcycle\", \"car\"])"
      ],
      "metadata": {
        "id": "_CUI7jaweUBW"
      },
      "execution_count": null,
      "outputs": []
    },
    {
      "cell_type": "code",
      "source": [
        "session = fo.launch_app(dataset3)"
      ],
      "metadata": {
        "id": "j7mKt0zRevcF"
      },
      "execution_count": null,
      "outputs": []
    },
    {
      "cell_type": "code",
      "source": [
        "print(dataset4)"
      ],
      "metadata": {
        "colab": {
          "base_uri": "https://localhost:8080/"
        },
        "id": "X7RZmUaIfM-U",
        "outputId": "1f521002-e420-4719-e9a2-494b927acb00"
      },
      "execution_count": 14,
      "outputs": [
        {
          "output_type": "stream",
          "name": "stdout",
          "text": [
            "Name:        quickstart\n",
            "Media type:  image\n",
            "Num samples: 200\n",
            "Persistent:  False\n",
            "Tags:        []\n",
            "Sample fields:\n",
            "    id:           fiftyone.core.fields.ObjectIdField\n",
            "    filepath:     fiftyone.core.fields.StringField\n",
            "    tags:         fiftyone.core.fields.ListField(fiftyone.core.fields.StringField)\n",
            "    metadata:     fiftyone.core.fields.EmbeddedDocumentField(fiftyone.core.metadata.ImageMetadata)\n",
            "    ground_truth: fiftyone.core.fields.EmbeddedDocumentField(fiftyone.core.labels.Detections)\n",
            "    uniqueness:   fiftyone.core.fields.FloatField\n",
            "    predictions:  fiftyone.core.fields.EmbeddedDocumentField(fiftyone.core.labels.Detections)\n",
            "    eval_tp:      fiftyone.core.fields.IntField\n",
            "    eval_fp:      fiftyone.core.fields.IntField\n",
            "    eval_fn:      fiftyone.core.fields.IntField\n"
          ]
        }
      ]
    },
    {
      "cell_type": "code",
      "source": [
        "dataset4 = foz.load_zoo_dataset(\"quickstart\")"
      ],
      "metadata": {
        "colab": {
          "base_uri": "https://localhost:8080/"
        },
        "id": "1_QCLR3Bg6g-",
        "outputId": "9c2ec810-804d-40bd-dad6-a747269f4749"
      },
      "execution_count": 11,
      "outputs": [
        {
          "output_type": "stream",
          "name": "stdout",
          "text": [
            "Downloading dataset to '/root/fiftyone/quickstart'\n"
          ]
        },
        {
          "output_type": "stream",
          "name": "stderr",
          "text": [
            "INFO:fiftyone.zoo.datasets:Downloading dataset to '/root/fiftyone/quickstart'\n"
          ]
        },
        {
          "output_type": "stream",
          "name": "stdout",
          "text": [
            "Downloading dataset...\n"
          ]
        },
        {
          "output_type": "stream",
          "name": "stderr",
          "text": [
            "INFO:fiftyone.zoo.datasets.base:Downloading dataset...\n"
          ]
        },
        {
          "output_type": "stream",
          "name": "stdout",
          "text": [
            " 100% |████|  187.5Mb/187.5Mb [94.5ms elapsed, 0s remaining, 1.9Gb/s]         \n"
          ]
        },
        {
          "output_type": "stream",
          "name": "stderr",
          "text": [
            "INFO:eta.core.utils: 100% |████|  187.5Mb/187.5Mb [94.5ms elapsed, 0s remaining, 1.9Gb/s]         \n"
          ]
        },
        {
          "output_type": "stream",
          "name": "stdout",
          "text": [
            "Extracting dataset...\n"
          ]
        },
        {
          "output_type": "stream",
          "name": "stderr",
          "text": [
            "INFO:fiftyone.zoo.datasets.base:Extracting dataset...\n"
          ]
        },
        {
          "output_type": "stream",
          "name": "stdout",
          "text": [
            "Parsing dataset metadata\n"
          ]
        },
        {
          "output_type": "stream",
          "name": "stderr",
          "text": [
            "INFO:fiftyone.zoo.datasets.base:Parsing dataset metadata\n"
          ]
        },
        {
          "output_type": "stream",
          "name": "stdout",
          "text": [
            "Found 200 samples\n"
          ]
        },
        {
          "output_type": "stream",
          "name": "stderr",
          "text": [
            "INFO:fiftyone.zoo.datasets.base:Found 200 samples\n"
          ]
        },
        {
          "output_type": "stream",
          "name": "stdout",
          "text": [
            "Dataset info written to '/root/fiftyone/quickstart/info.json'\n"
          ]
        },
        {
          "output_type": "stream",
          "name": "stderr",
          "text": [
            "INFO:fiftyone.zoo.datasets:Dataset info written to '/root/fiftyone/quickstart/info.json'\n"
          ]
        },
        {
          "output_type": "stream",
          "name": "stdout",
          "text": [
            "Loading 'quickstart'\n"
          ]
        },
        {
          "output_type": "stream",
          "name": "stderr",
          "text": [
            "INFO:fiftyone.zoo.datasets:Loading 'quickstart'\n"
          ]
        },
        {
          "output_type": "stream",
          "name": "stdout",
          "text": [
            " 100% |█████████████████| 200/200 [4.3s elapsed, 0s remaining, 43.0 samples/s]      \n"
          ]
        },
        {
          "output_type": "stream",
          "name": "stderr",
          "text": [
            "INFO:eta.core.utils: 100% |█████████████████| 200/200 [4.3s elapsed, 0s remaining, 43.0 samples/s]      \n"
          ]
        },
        {
          "output_type": "stream",
          "name": "stdout",
          "text": [
            "Dataset 'quickstart' created\n"
          ]
        },
        {
          "output_type": "stream",
          "name": "stderr",
          "text": [
            "INFO:fiftyone.zoo.datasets:Dataset 'quickstart' created\n"
          ]
        }
      ]
    },
    {
      "cell_type": "code",
      "source": [
        "# evaluate model on several coco datasets\n",
        "results = dataset3.evaluate_detections(\n",
        "    \"ground_truth\",\n",
        "    gt_field=\"ground_truth\",\n",
        "    methods=\"coco\",\n",
        "    eval_key=\"eval\"\n",
        ")"
      ],
      "metadata": {
        "id": "zrKv-AnYgL1o"
      },
      "execution_count": null,
      "outputs": []
    },
    {
      "cell_type": "code",
      "source": [
        "# Get the 10 most common classes in the dataset\n",
        "counts = dataset3.count_values(\"ground_truth.detections.label\")\n",
        "classes = sorted(counts, key=counts.get, reverse=True)[:10]"
      ],
      "metadata": {
        "id": "sHpB8Ye2gfbP"
      },
      "execution_count": null,
      "outputs": []
    },
    {
      "cell_type": "code",
      "source": [
        "# Print a classification report for the top-10 classes\n",
        "results.print_report(classes=classes)"
      ],
      "metadata": {
        "colab": {
          "base_uri": "https://localhost:8080/"
        },
        "id": "wDRvj1VOgxb2",
        "outputId": "79639419-5855-4f27-a3bf-33c1a6f567ac"
      },
      "execution_count": 27,
      "outputs": [
        {
          "output_type": "stream",
          "name": "stdout",
          "text": [
            "              precision    recall  f1-score   support\n",
            "\n",
            "      person       1.00      1.00      1.00       141\n",
            "  wine glass       1.00      1.00      1.00        19\n",
            "        book       1.00      1.00      1.00        16\n",
            "         tie       1.00      1.00      1.00        15\n",
            "       chair       1.00      1.00      1.00        12\n",
            "         cup       1.00      1.00      1.00        10\n",
            "         car       1.00      1.00      1.00        10\n",
            "dining table       1.00      1.00      1.00         9\n",
            "      bottle       1.00      1.00      1.00         8\n",
            "        boat       1.00      1.00      1.00         7\n",
            "\n",
            "   micro avg       1.00      1.00      1.00       247\n",
            "   macro avg       1.00      1.00      1.00       247\n",
            "weighted avg       1.00      1.00      1.00       247\n",
            "\n"
          ]
        }
      ]
    },
    {
      "cell_type": "code",
      "source": [
        "# Create a view that has samples with the most false positives first, and\n",
        "# only includes false positive boxes in the `predictions` field\n",
        "view = (\n",
        "    dataset3\n",
        "    .sort_by(\"eval_fp\", reverse=True)\n",
        "    .filter_labels(\"ground_truth\", F(\"eval\") == \"fp\")\n",
        ")\n",
        "\n",
        "# Visualize results in the App\n",
        "session = fo.launch_app(view=view)"
      ],
      "metadata": {
        "id": "lqlUX5VzhPEN"
      },
      "execution_count": null,
      "outputs": []
    },
    {
      "cell_type": "code",
      "source": [],
      "metadata": {
        "id": "NmWq1A80hU_V"
      },
      "execution_count": null,
      "outputs": []
    }
  ]
}